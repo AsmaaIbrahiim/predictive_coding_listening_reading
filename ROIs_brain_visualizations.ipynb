{
 "cells": [
  {
   "cell_type": "markdown",
   "metadata": {},
   "source": [
    "# Table of Contents\n",
    "\n",
    "1. **Load the Labels**\n",
    "2. **Important Language Areas**\n",
    "3. **Read the Data**\n",
    "4. **Brain Scores**\n",
    "    - All Voxels\n",
    "    - Averaged Across ROIs\n",
    "5. **Forecast Scores for Mean Best Distance**\n",
    "    - All Voxels\n",
    "    - Listening vs Reading\n",
    "    - Only Voxels with Good Brain Scores\n",
    "    - Averaged Across ROIs\n"
   ]
  },
  {
   "cell_type": "markdown",
   "metadata": {},
   "source": [
    "# Load the labels"
   ]
  },
  {
   "cell_type": "code",
   "execution_count": 1,
   "metadata": {},
   "outputs": [],
   "source": [
    "import matplotlib.pyplot as plt\n",
    "import os\n",
    "import mne\n",
    "import numpy as np\n",
    "import cortex\n",
    "import plotly.graph_objects as go\n",
    "from scipy import stats\n",
    "from scipy.stats import wilcoxon\n",
    "import plotly\n",
    "import plotly.io as pio   \n",
    "pio.kaleido.scope.mathjax = None\n",
    "import statsmodels\n",
    "import os\n",
    "import matplotlib.pyplot as plt\n",
    "from voxelwise_tutorials.io import load_hdf5_sparse_array,load_hdf5_array\n",
    "import os\n",
    "import numpy as np\n",
    "import cortex\n",
    "from cortex.testing_utils import has_installed\n",
    "from scipy.stats import wilcoxon\n",
    "from statsmodels.stats.multitest import fdrcorrection\n",
    "from matplotlib import cm\n",
    "from matplotlib.colors import ListedColormap\n",
    "from voxelwise_tutorials.viz import plot_flatmap_from_mapper, _map_to_2d_cmap, plot_2d_flatmap_from_mapper, plot_hist2d, map_voxels_to_flatmap\n",
    "\n",
    "fsaverage_voxels = 327684\n",
    "subjects_dir = mne.datasets.sample.data_path() / 'subjects'"
   ]
  },
  {
   "cell_type": "code",
   "execution_count": 2,
   "metadata": {},
   "outputs": [],
   "source": [
    "import nibabel as nib\n",
    "import numpy as np\n",
    "\n",
    "# Load the GIFTI file\n",
    "gLh = nib.load('mappers/tpl-fsaverage6_hemi-L_desc-MMP_dseg.label.gii')\n",
    "\n",
    "# Check the data arrays in the file\n",
    "labels_info=gLh.labeltable.labels\n",
    "lt_labels = gLh.darrays[0].data\n",
    "\n",
    "gRh = nib.load('mappers/tpl-fsaverage6_hemi-R_desc-MMP_dseg.label.gii')\n",
    "rt_labels = gRh.darrays[0].data"
   ]
  },
  {
   "cell_type": "code",
   "execution_count": null,
   "metadata": {},
   "outputs": [],
   "source": [
    "left_data = gLh.agg_data()\n",
    "right_data = gRh.agg_data()\n",
    "labels= gLh.labeltable.get_labels_as_dict()\n",
    "right_data[right_data > 0] += 180\n",
    "right_labels = gRh.labeltable.get_labels_as_dict()\n",
    "right_labels = {i + 180: v for i, v in right_labels.items() if i != 0}\n",
    "labels |= right_labels\n",
    "label_img = np.concatenate((left_data, right_data))\n",
    "\n",
    "labels = {k: v.removesuffix(\"_ROI\") for k, v in labels.items()}\n",
    "labels\n"
   ]
  },
  {
   "cell_type": "code",
   "execution_count": null,
   "metadata": {},
   "outputs": [],
   "source": [
    "data_fs7 = cortex.freesurfer.upsample_to_fsaverage(label_img, \"fsaverage6\", subjects_dir)\n",
    "data_fs7.shape"
   ]
  },
  {
   "cell_type": "markdown",
   "metadata": {},
   "source": [
    "important language areas"
   ]
  },
  {
   "cell_type": "code",
   "execution_count": 5,
   "metadata": {},
   "outputs": [],
   "source": [
    "early_visual_rois = ['V1','V2']\n",
    "early_indices = [1, 4]\n",
    "\n",
    "vwfa_indices = [  138, 136]\n",
    "vwfa_rois = ['PH','TE2P']\n",
    "\n",
    "early_auditory_rois = ['LBelt','PBelt','MBelt','RI','A4']\n",
    "early_auditory_indices = [24, 174, 124, 173, 104, 175]\n",
    "\n",
    "primary_auditory_rois = ['A1', 'STV']\n",
    "primary_auditory_indices = [24, 28]\n",
    "\n",
    "secondary_auditory_rois = ['STV']\n",
    "secondary_auditory_indices = [28]\n",
    "\n",
    "\n",
    "late_language_rois = ['A5','44','45', 'IFJa', 'IFSp', 'PGi', 'PGp', 'PGs', 'TPOJ1', 'TPOJ2', 'TPOJ3', 'STGa','STSda', 'STSdp','TA2', 'STSva', 'STSvp', 'PFm']\n",
    "late_language_indices = [125, 74, 75, 79, 81, 150, 143, 151, 139, 140, 141, 123, 128, 129, 107, 176, 130, 149]\n",
    "\n",
    "main_language_rois = ['EV','VWFA','EAC','LL','A1']\n",
    "main_language_indices = [early_indices, vwfa_indices, early_auditory_indices, late_language_indices, primary_auditory_indices]\n",
    "\n",
    "angular_gyrus_rois = ['PFm','PGs', 'PGi', 'TPOJ2','TPOJ3', 'PGp']\n",
    "angular_gyrus_indices = [149, 151, 150, 140, 141, 143]\n",
    "\n",
    "ltc_rois = ['STSda', 'STSva', 'STGa', 'TE1a', 'TE2a', 'TGv', 'TGd', 'A5', 'STSdp', 'STSvp', 'PSL', 'STV', 'TPOJ1']\n",
    "ltc_indices = [128, 176 ,123, 132, 134, 172, 131, 125, 129, 130, 25, 28, 139]\n",
    "\n",
    "ifg_rois = ['44', '45', 'IFJa', 'IFSp']\n",
    "ifg_indies = [74, 75, 79, 81]\n",
    "\n",
    "mfg_rois = ['55b']\n",
    "mfg_indices = [12]\n",
    "\n",
    "ifgorb_rois = ['47m','47l', '47s' ]\n",
    "ifgorb_indices = [66, 76, 94]\n",
    "\n",
    "late_language_main_rois = ['AG', 'LTC', 'IFG', 'MFG', 'IFGOrb']\n",
    "late_language_main_indices = [angular_gyrus_indices, ltc_indices, ifg_indies, mfg_indices, ifgorb_indices]\n",
    "\n",
    "broca_rois = ['44','45']\n",
    "broca_indices = [74, 75]\n",
    "\n",
    "semantic_rois = ['IFJa', 'IFJp', 'PGi', 'PGp', 'PGs', 'TPOJ1', 'TPOJ2', 'TPOJ3']\n",
    "semantic_indices = [79,80, 150, 143, 151, 139, 140, 141]\n",
    "\n",
    "phonology_rois = ['STSda', 'STSva', 'STSdp', 'STSvp', 'STGa']\n",
    "phonology_indices = [128, 176,  129, 130, 123 ]\n",
    "\n",
    "lang_audition_rois = ['TA2']\n",
    "lang_audition_indices= [107]\n",
    "\n",
    "late_language_func_rois = ['Broca\\'s area (production and grammar)', 'IFJ & PG & TPOJ (semantic)', 'STGa & STS (auditory linguistic integration)', 'TA2 (language auditory processing)' ]\n",
    "late_language_func_indices = [broca_indices, semantic_indices, phonology_indices, lang_audition_indices]\n",
    "\n",
    "stsa_rois = ['STSda', 'STSva']\n",
    "stsa_indices = [128, 176]\n",
    "\n",
    "stsp_rois = ['STSdp', 'STSvp']\n",
    "stsp_indices = [129, 130]\n",
    "\n",
    "pars_opercularis_rois = ['44']\n",
    "pars_opercularis_indices = [74]\n",
    "\n",
    "pars_triangularis_rois = ['45']\n",
    "pars_triangularis_indices = [75]\n",
    "\n",
    "language_paper_rois = ['STSa', 'STSp', 'pars obercularis', 'pars triangularis', 'AG']\n",
    "language_paper_indices = [stsa_indices, stsp_indices, pars_opercularis_indices,  pars_triangularis_indices, angular_gyrus_indices]\n",
    "\n",
    "#Broca's area is vital for speech production and grammar comprehension\n",
    "#IFJ, PG, TPOJ involved in semantic processing\n",
    "#STSGa, STS play roles in phonological processing and auditory-linguistic integration\n",
    "#TA2 is implicated in auditory processing especially in the context of language"
   ]
  },
  {
   "cell_type": "markdown",
   "metadata": {},
   "source": [
    "# Read the data"
   ]
  },
  {
   "cell_type": "code",
   "execution_count": null,
   "metadata": {},
   "outputs": [],
   "source": [
    "from voxelwise_tutorials.io import load_hdf5_sparse_array\n",
    "import os\n",
    "import numpy as np\n",
    "import cortex\n",
    "\n",
    "modality = 'listening'\n",
    "layer = 8\n",
    "directory = 'mappers/'\n",
    "subjects = ['0'+str(i) for i in range(1,10) if i not in [4,6]]\n",
    "distances = np.arange(-5, 30)\n",
    "n_distances = len(distances)\n",
    "n_subjects = len(subjects)\n",
    "\n",
    "listening_ceilings = np.zeros((n_subjects, fsaverage_voxels))\n",
    "listening_brain_scores = np.zeros((n_subjects, fsaverage_voxels))\n",
    "listening_forecast_brain_scores = np.zeros((n_subjects, n_distances, fsaverage_voxels))\n",
    "listening_forecast_scores = np.zeros((n_subjects, n_distances, fsaverage_voxels))\n",
    "listening_precentage_increase = np.zeros((n_subjects, n_distances, fsaverage_voxels))\n",
    "listening_ceiled_forecast_brain_scores =  np.zeros((n_subjects, n_distances, fsaverage_voxels))\n",
    "\n",
    "for i in range(len(subjects)):\n",
    "    eachsub = subjects[i] \n",
    "    mapper_file = os.path.join(directory, f'subject{eachsub}_mappers.hdf')\n",
    "    voxel_to_fsaverage = load_hdf5_sparse_array(mapper_file, key='voxel_to_fsaverage')\n",
    "    ceiling = np.load('noise_ceiling/results/'+modality+'/subject_'+str(eachsub)+'_kernel_ridge.npy')\n",
    "    ceiling_voxcorrs = voxel_to_fsaverage @ ceiling\n",
    "    listening_ceilings[i] = ceiling_voxcorrs\n",
    "    model_voxcorrs = np.load('predictions2/'+modality+'/'+eachsub+'/'+str(layer)+'/layer_'+str(layer)+'.npy')\n",
    "    listening_brain_scores[i] = voxel_to_fsaverage @ model_voxcorrs\n",
    "    for d in distances:\n",
    "        forecast_model_voxcorrs = np.load('predictions2/future_'+modality+'/'+str(eachsub)+'/'+str(layer)+'/'+str(d)+'/layer_'+str(layer)+'.npy')\n",
    "        listening_forecast_brain_scores[i,d+5,:] = voxel_to_fsaverage @ forecast_model_voxcorrs\n",
    "        listening_ceiled_forecast_brain_scores[i, d+5,:] = listening_forecast_brain_scores[i,d+5,:] / ceiling_voxcorrs\n",
    "        listening_forecast_scores[i, d+5,:] = listening_forecast_brain_scores[i,d+5,:] - listening_brain_scores[i]\n",
    "        listening_precentage_increase[i,d+5,:] = (listening_forecast_brain_scores[i,d+5,:] / listening_brain_scores[i]) - 1\n",
    "mean_listening_ceiling = np.nanmean(listening_ceilings, axis=0)\n",
    "filtered_listening_forecast_scores = listening_forecast_scores * (mean_listening_ceiling>=0.05)\n",
    "filtered_listening_forecast_scores[filtered_listening_forecast_scores==0] = None\n"
   ]
  },
  {
   "cell_type": "code",
   "execution_count": null,
   "metadata": {},
   "outputs": [],
   "source": [
    "from voxelwise_tutorials.io import load_hdf5_sparse_array\n",
    "import os\n",
    "import numpy as np\n",
    "import cortex\n",
    "\n",
    "modality = 'reading'\n",
    "layer = 8\n",
    "directory = 'mappers/'\n",
    "subjects = ['0'+str(i) for i in range(1,10) if i not in [4,6]]\n",
    "distances = np.arange(-5, 30)\n",
    "n_distances = len(distances)\n",
    "n_subjects = len(subjects)\n",
    "\n",
    "reading_ceilings = np.zeros((n_subjects, fsaverage_voxels))\n",
    "reading_brain_scores = np.zeros((n_subjects, fsaverage_voxels))\n",
    "reading_forecast_brain_scores = np.zeros((n_subjects, n_distances, fsaverage_voxels))\n",
    "reading_forecast_scores = np.zeros((n_subjects, n_distances, fsaverage_voxels))\n",
    "reading_precentage_increase = np.zeros((n_subjects, n_distances, fsaverage_voxels))\n",
    "reading_ceiled_forecast_brain_scores =  np.zeros((n_subjects, n_distances, fsaverage_voxels))\n",
    "\n",
    "for i in range(len(subjects)):\n",
    "    eachsub = subjects[i] \n",
    "    mapper_file = os.path.join(directory, f'subject{eachsub}_mappers.hdf')\n",
    "    voxel_to_fsaverage = load_hdf5_sparse_array(mapper_file, key='voxel_to_fsaverage')\n",
    "    ceiling = np.load('noise_ceiling/results/'+modality+'/subject_'+str(eachsub)+'_kernel_ridge.npy')\n",
    "    ceiling_voxcorrs = voxel_to_fsaverage @ ceiling\n",
    "    reading_ceilings[i] = ceiling_voxcorrs\n",
    "    model_voxcorrs = np.load('predictions2/'+modality+'/'+eachsub+'/'+str(layer)+'/layer_'+str(layer)+'.npy')\n",
    "    reading_brain_scores[i] = voxel_to_fsaverage @ model_voxcorrs\n",
    "    for d in distances:\n",
    "        forecast_model_voxcorrs = np.load('predictions2/future_'+modality+'/'+str(eachsub)+'/'+str(layer)+'/'+str(d)+'/layer_'+str(layer)+'.npy')\n",
    "        reading_forecast_brain_scores[i,d+5,:] = voxel_to_fsaverage @ forecast_model_voxcorrs\n",
    "        reading_ceiled_forecast_brain_scores[i, d+5,:] = reading_forecast_brain_scores[i,d+5,:] / ceiling_voxcorrs\n",
    "        reading_forecast_scores[i, d+5,:] = reading_forecast_brain_scores[i,d+5,:] - reading_brain_scores[i]\n",
    "        reading_precentage_increase[i,d+5,:] = (reading_forecast_brain_scores[i,d+5,:] / reading_brain_scores[i]) - 1\n",
    "mean_reading_ceiling = np.nanmean(reading_ceilings, axis=0)\n",
    "filtered_reading_forecast_scores = reading_forecast_scores * (mean_reading_ceiling>=0.05)\n",
    "filtered_reading_forecast_scores[filtered_reading_forecast_scores==0] = None\n"
   ]
  },
  {
   "cell_type": "markdown",
   "metadata": {},
   "source": [
    "# Brain scores"
   ]
  },
  {
   "cell_type": "code",
   "execution_count": null,
   "metadata": {},
   "outputs": [],
   "source": [
    "listening_brain_scores.mean(), reading_brain_scores.mean()"
   ]
  },
  {
   "cell_type": "markdown",
   "metadata": {},
   "source": [
    "## All voxels"
   ]
  },
  {
   "cell_type": "markdown",
   "metadata": {},
   "source": [
    "Listening"
   ]
  },
  {
   "cell_type": "code",
   "execution_count": null,
   "metadata": {},
   "outputs": [],
   "source": [
    "vertex_list_BS = cortex.Vertex(listening_brain_scores.mean(0),'fsaverage', vmin=0.05, vmax=0.2, cmap='YlGnBu_r')\n",
    "\n",
    "fig = cortex.quickshow(vertex_list_BS, colorbar_location='right',\n",
    "                       with_rois=True)\n",
    "fig.show()\n",
    "#cortex.webshow(vertex_list_BS)"
   ]
  },
  {
   "cell_type": "markdown",
   "metadata": {},
   "source": [
    "Reading"
   ]
  },
  {
   "cell_type": "code",
   "execution_count": null,
   "metadata": {},
   "outputs": [],
   "source": [
    "vertex_read_BS = cortex.Vertex(reading_brain_scores.mean(0),'fsaverage', vmin=0.05, vmax=0.2, cmap='YlGnBu_r')\n",
    "\n",
    "fig = cortex.quickshow(vertex_read_BS, colorbar_location='right',\n",
    "                       with_rois=True)\n",
    "fig.show()\n",
    "#cortex.webshow(vertex_read_BS)"
   ]
  },
  {
   "cell_type": "markdown",
   "metadata": {},
   "source": [
    "## Averaged across ROIs"
   ]
  },
  {
   "cell_type": "markdown",
   "metadata": {},
   "source": [
    "### Listening"
   ]
  },
  {
   "cell_type": "code",
   "execution_count": null,
   "metadata": {},
   "outputs": [],
   "source": [
    "import numpy as np\n",
    "\n",
    "scores = listening_brain_scores.mean(0)\n",
    "\n",
    "# Compute the average score per label\n",
    "unique_labels = np.unique(data_fs7)\n",
    "label_to_avg = {label: scores[data_fs7 == label].mean() for label in unique_labels}\n",
    "\n",
    "# Map averages back to original voxel positions\n",
    "brain_scores_across_ROIs = np.array([label_to_avg[label] for label in data_fs7])\n",
    "\n",
    "vertex_list_BS_ROIs = cortex.Vertex(brain_scores_across_ROIs,'fsaverage', vmin=0.05, vmax=0.2, cmap='YlGnBu_r')\n",
    "\n",
    "fig = cortex.quickshow(vertex_list_BS_ROIs, colorbar_location='right',\n",
    "                    with_rois=True)\n",
    "fig.show()\n",
    "#cortex.webshow(vertex_list_BS_ROIs)"
   ]
  },
  {
   "cell_type": "markdown",
   "metadata": {},
   "source": [
    "### Reading"
   ]
  },
  {
   "cell_type": "code",
   "execution_count": null,
   "metadata": {},
   "outputs": [],
   "source": [
    "import numpy as np\n",
    "\n",
    "scores = reading_brain_scores.mean(0)\n",
    "\n",
    "# Compute the average score per label\n",
    "unique_labels = np.unique(data_fs7)\n",
    "label_to_avg = {label: scores[data_fs7 == label].mean() for label in unique_labels}\n",
    "\n",
    "# Map averages back to original voxel positions\n",
    "brain_scores_across_ROIs = np.array([label_to_avg[label] for label in data_fs7])\n",
    "\n",
    "vertex_read_BS_ROIs = cortex.Vertex(brain_scores_across_ROIs, 'fsaverage', vmin=0.05, vmax=0.2, cmap='YlGnBu_r')\n",
    "\n",
    "fig = cortex.quickshow(vertex_read_BS_ROIs, colorbar_location='right',\n",
    "                       with_rois=True)\n",
    "fig.show()\n",
    "#cortex.webshow(vertex_read_BS_ROIs)"
   ]
  },
  {
   "cell_type": "markdown",
   "metadata": {},
   "source": [
    "# Forecast scores for mean best distance"
   ]
  },
  {
   "cell_type": "code",
   "execution_count": null,
   "metadata": {},
   "outputs": [],
   "source": [
    "# Best mean distance for listening\n",
    "best_listening_mean_distance = np.argmax(listening_forecast_scores.mean((0,2)), axis=0) - 5\n",
    "best_reading_mean_distance = np.argmax(reading_forecast_scores.mean((0,2)), axis=0) - 5\n",
    "best_listening_mean_distance, best_reading_mean_distance"
   ]
  },
  {
   "cell_type": "markdown",
   "metadata": {},
   "source": [
    "## All Voxels"
   ]
  },
  {
   "cell_type": "markdown",
   "metadata": {},
   "source": [
    "Listening"
   ]
  },
  {
   "cell_type": "code",
   "execution_count": null,
   "metadata": {},
   "outputs": [],
   "source": [
    "mean_listening_forecast_scores_at_best_dist = listening_forecast_scores[:,best_listening_mean_distance+5,:].mean(0)\n",
    "vertex_list_FS = cortex.Vertex(mean_listening_forecast_scores_at_best_dist,'fsaverage', vmin=0.005, vmax=0.02, cmap='YlGnBu_r')\n",
    "\n",
    "fig = cortex.quickshow(vertex_list_FS, colorbar_location='right',\n",
    "                       with_rois=True)\n",
    "fig.show()\n",
    "#cortex.webshow(vertex_list_FS)"
   ]
  },
  {
   "cell_type": "markdown",
   "metadata": {},
   "source": [
    "Reading"
   ]
  },
  {
   "cell_type": "code",
   "execution_count": null,
   "metadata": {},
   "outputs": [],
   "source": [
    "mean_reading_forecast_scores_at_best_dist = reading_forecast_scores[:,best_reading_mean_distance+5,:].mean(0)\n",
    "\n",
    "vertex_read_FS = cortex.Vertex(mean_reading_forecast_scores_at_best_dist,'fsaverage', vmin=0.005, vmax=0.02, cmap='YlGnBu_r')\n",
    "\n",
    "fig = cortex.quickshow(vertex_read_FS, colorbar_location='right',\n",
    "                       with_rois=True)\n",
    "fig.show()\n",
    "#cortex.webshow(vertex_read_FS)"
   ]
  },
  {
   "cell_type": "markdown",
   "metadata": {},
   "source": [
    "listening vs reading"
   ]
  },
  {
   "cell_type": "code",
   "execution_count": null,
   "metadata": {},
   "outputs": [],
   "source": [
    "vertex_list_read_FS = cortex.Vertex2D(mean_listening_forecast_scores_at_best_dist,mean_reading_forecast_scores_at_best_dist,'fsaverage', vmin=0, vmax=0.01, vmin2=0, vmax2=0.01)\n",
    "\n",
    "fig = cortex.quickshow(vertex_list_read_FS, colorbar_location='right',\n",
    "                       with_rois=True)\n",
    "fig.show()\n",
    "#cortex.webshow(vertex_list_read_FS)"
   ]
  },
  {
   "cell_type": "markdown",
   "metadata": {},
   "source": [
    "## Only voxels with good brain score"
   ]
  },
  {
   "cell_type": "markdown",
   "metadata": {},
   "source": [
    "listening"
   ]
  },
  {
   "cell_type": "code",
   "execution_count": null,
   "metadata": {},
   "outputs": [],
   "source": [
    "filtered_mean_listening_forecast_scores_at_best_dist = mean_listening_forecast_scores_at_best_dist * (listening_forecast_brain_scores[:,best_listening_mean_distance+5,:].mean(0)> 0.05)\n",
    "vertex_list_FS_filtered = cortex.Vertex(filtered_mean_listening_forecast_scores_at_best_dist,'fsaverage', vmin=0, vmax=0.01, cmap='YlGnBu_r')\n",
    "\n",
    "fig = cortex.quickshow(vertex_list_FS_filtered, colorbar_location='right',\n",
    "                       with_rois=True)\n",
    "fig.show()\n",
    "#cortex.webshow(vertex_list_FS_filtered)"
   ]
  },
  {
   "cell_type": "markdown",
   "metadata": {},
   "source": [
    "Reading"
   ]
  },
  {
   "cell_type": "code",
   "execution_count": null,
   "metadata": {},
   "outputs": [],
   "source": [
    "filtered_mean_reading_forecast_scores_at_best_dist = mean_reading_forecast_scores_at_best_dist * (reading_forecast_brain_scores[:,best_reading_mean_distance+5,:].mean(0) > 0.05)\n",
    "vertex_read_FS_filtered = cortex.Vertex(filtered_mean_reading_forecast_scores_at_best_dist, 'fsaverage', vmin=0, vmax=0.01, cmap='YlGnBu_r')\n",
    "\n",
    "fig = cortex.quickshow(vertex_read_FS_filtered, colorbar_location='right',\n",
    "                       with_rois=True)\n",
    "fig.show()\n",
    "#cortex.webshow(vertex_read_FS_filtered)"
   ]
  },
  {
   "cell_type": "markdown",
   "metadata": {},
   "source": [
    "Listening vs reading"
   ]
  },
  {
   "cell_type": "code",
   "execution_count": null,
   "metadata": {},
   "outputs": [],
   "source": [
    "vertex_list_read_FS_filtered = cortex.Vertex2D(filtered_mean_listening_forecast_scores_at_best_dist, filtered_mean_reading_forecast_scores_at_best_dist, 'fsaverage', vmin=0, vmax=0.01, vmin2=0, vmax2=0.01)\n",
    "\n",
    "fig = cortex.quickshow(vertex_list_read_FS_filtered, colorbar_location='right',\n",
    "                       with_rois=True)\n",
    "fig.show()\n",
    "#cortex.webshow(vertex_list_read_FS_filtered)"
   ]
  },
  {
   "cell_type": "markdown",
   "metadata": {},
   "source": [
    "## Averaged across ROIs"
   ]
  },
  {
   "cell_type": "markdown",
   "metadata": {},
   "source": [
    "listening"
   ]
  },
  {
   "cell_type": "code",
   "execution_count": null,
   "metadata": {},
   "outputs": [],
   "source": [
    "import numpy as np\n",
    "\n",
    "scores = mean_listening_forecast_scores_at_best_dist\n",
    "\n",
    "# Compute the average score per label\n",
    "unique_labels = np.unique(data_fs7)\n",
    "label_to_avg = {label: scores[data_fs7 == label].mean() for label in unique_labels}\n",
    "\n",
    "# Map averages back to original voxel positions\n",
    "list_scores_across_ROIs = np.array([label_to_avg[label] for label in data_fs7])\n",
    "\n",
    "vertex_list_FS_ROIs = cortex.Vertex(list_scores_across_ROIs,'fsaverage', vmin=0, vmax=0.01, cmap='YlGnBu_r')\n",
    "\n",
    "fig = cortex.quickshow(vertex_list_FS_ROIs, colorbar_location='right',\n",
    "                    with_rois=True)\n",
    "fig.show()\n",
    "#cortex.webshow(vertex_list_BS_ROIs)"
   ]
  },
  {
   "cell_type": "markdown",
   "metadata": {},
   "source": [
    "Reading"
   ]
  },
  {
   "cell_type": "code",
   "execution_count": null,
   "metadata": {},
   "outputs": [],
   "source": [
    "import numpy as np\n",
    "\n",
    "scores = mean_reading_forecast_scores_at_best_dist\n",
    "\n",
    "# Compute the average score per label\n",
    "unique_labels = np.unique(data_fs7)\n",
    "label_to_avg = {label: scores[data_fs7 == label].mean() for label in unique_labels}\n",
    "\n",
    "# Map averages back to original voxel positions\n",
    "read_scores_across_ROIs = np.array([label_to_avg[label] for label in data_fs7])\n",
    "\n",
    "vertex_read_FS_ROIs = cortex.Vertex(read_scores_across_ROIs, 'fsaverage', vmin=0, vmax=0.01, cmap='YlGnBu_r')\n",
    "\n",
    "fig = cortex.quickshow(vertex_read_FS_ROIs, colorbar_location='right',\n",
    "                    with_rois=True)\n",
    "fig.show()\n",
    "#cortex.webshow(vertex_read_FS_ROIs)"
   ]
  },
  {
   "cell_type": "markdown",
   "metadata": {},
   "source": [
    "Listening vs reading"
   ]
  },
  {
   "cell_type": "code",
   "execution_count": null,
   "metadata": {},
   "outputs": [],
   "source": [
    "vertex_list_read_FS = cortex.Vertex2D(list_scores_across_ROIs,read_scores_across_ROIs,'fsaverage', vmin=0, vmax=0.01, vmin2=0, vmax2=0.01)\n",
    "\n",
    "fig = cortex.quickshow(vertex_list_read_FS, colorbar_location='right',\n",
    "                       with_rois=True)\n",
    "fig.show()\n",
    "cortex.webshow(vertex_list_read_FS)"
   ]
  },
  {
   "cell_type": "markdown",
   "metadata": {},
   "source": [
    "## Only voxels with good brain scores averaged across ROIS"
   ]
  },
  {
   "cell_type": "markdown",
   "metadata": {},
   "source": [
    "listening"
   ]
  },
  {
   "cell_type": "code",
   "execution_count": null,
   "metadata": {},
   "outputs": [],
   "source": [
    "import numpy as np\n",
    "\n",
    "scores = filtered_mean_listening_forecast_scores_at_best_dist\n",
    "\n",
    "# Compute the average score per label\n",
    "unique_labels = np.unique(data_fs7)\n",
    "label_to_avg = {label: scores[data_fs7 == label].mean() for label in unique_labels}\n",
    "\n",
    "# Map averages back to original voxel positions\n",
    "list_scores_across_ROIs = np.array([label_to_avg[label] for label in data_fs7])\n",
    "\n",
    "vertex_list_FS_ROIs = cortex.Vertex(list_scores_across_ROIs,'fsaverage', vmin=0, vmax=0.01, cmap='YlGnBu_r')\n",
    "\n",
    "fig = cortex.quickshow(vertex_list_FS_ROIs, colorbar_location='right',\n",
    "                    with_rois=True)\n",
    "fig.show()\n",
    "#cortex.webshow(vertex_list_BS_ROIs)"
   ]
  },
  {
   "cell_type": "markdown",
   "metadata": {},
   "source": [
    "reading"
   ]
  },
  {
   "cell_type": "code",
   "execution_count": null,
   "metadata": {},
   "outputs": [],
   "source": [
    "import numpy as np\n",
    "\n",
    "scores = filtered_mean_reading_forecast_scores_at_best_dist\n",
    "\n",
    "# Compute the average score per label\n",
    "unique_labels = np.unique(data_fs7)\n",
    "label_to_avg = {label: scores[data_fs7 == label].mean() for label in unique_labels}\n",
    "\n",
    "# Map averages back to original voxel positions\n",
    "read_scores_across_ROIs = np.array([label_to_avg[label] for label in data_fs7])\n",
    "\n",
    "vertex_read_FS_ROIs = cortex.Vertex(read_scores_across_ROIs, 'fsaverage', vmin=0, vmax=0.01, cmap='YlGnBu_r')\n",
    "\n",
    "fig = cortex.quickshow(vertex_read_FS_ROIs, colorbar_location='right',\n",
    "                    with_rois=True)\n",
    "fig.show()\n",
    "#cortex.webshow(vertex_read_FS_ROIs)"
   ]
  },
  {
   "cell_type": "markdown",
   "metadata": {},
   "source": [
    "listening vs reading"
   ]
  },
  {
   "cell_type": "code",
   "execution_count": null,
   "metadata": {},
   "outputs": [],
   "source": [
    "vertex_list_read_FS = cortex.Vertex2D(list_scores_across_ROIs,read_scores_across_ROIs,'fsaverage', vmin=0, vmax=0.01, vmin2=0, vmax2=0.01)\n",
    "\n",
    "fig = cortex.quickshow(vertex_list_read_FS, colorbar_location='right',\n",
    "                       with_rois=True)\n",
    "fig.show()\n",
    "#cortex.webshow(vertex_list_read_FS)"
   ]
  },
  {
   "cell_type": "markdown",
   "metadata": {},
   "source": [
    "# Best Distance"
   ]
  },
  {
   "cell_type": "markdown",
   "metadata": {},
   "source": [
    "## All Voxels"
   ]
  },
  {
   "cell_type": "markdown",
   "metadata": {},
   "source": [
    "listening"
   ]
  },
  {
   "cell_type": "code",
   "execution_count": null,
   "metadata": {},
   "outputs": [],
   "source": [
    "listening_forecast_brain_scores.argmax(1).mean(0) - 5"
   ]
  },
  {
   "cell_type": "code",
   "execution_count": null,
   "metadata": {},
   "outputs": [],
   "source": [
    "best_listening_distances = listening_forecast_brain_scores.mean(0).argmax(0) - 5\n",
    "vertex_list_dist = cortex.Vertex(best_listening_distances,'fsaverage', vmin=0, vmax=15, cmap='YlGnBu_r')\n",
    "\n",
    "fig = cortex.quickshow(vertex_list_dist, colorbar_location='right',\n",
    "                       with_rois=True)\n",
    "fig.show()\n",
    "#cortex.webshow(vertex_list_dist)"
   ]
  },
  {
   "cell_type": "markdown",
   "metadata": {},
   "source": [
    "reading"
   ]
  },
  {
   "cell_type": "code",
   "execution_count": null,
   "metadata": {},
   "outputs": [],
   "source": [
    "best_reading_distances = reading_forecast_brain_scores.mean(0).argmax(0) - 5\n",
    "vertex_read_dist = cortex.Vertex(best_reading_distances, 'fsaverage', vmin=0, vmax=15, cmap='YlGnBu_r')\n",
    "\n",
    "fig = cortex.quickshow(vertex_read_dist, colorbar_location='right',\n",
    "                       with_rois=True)\n",
    "fig.show()\n",
    "#cortex.webshow(vertex_read_dist)"
   ]
  },
  {
   "cell_type": "markdown",
   "metadata": {},
   "source": [
    "listening vs reading"
   ]
  },
  {
   "cell_type": "code",
   "execution_count": null,
   "metadata": {},
   "outputs": [],
   "source": [
    "vertex_list_read_dist = cortex.Vertex2D(best_listening_distances,best_reading_distances,'fsaverage', vmin=0, vmax=15, vmin2=0, vmax2=15)\n",
    "\n",
    "fig = cortex.quickshow(vertex_list_read_dist, colorbar_location='right',\n",
    "                       with_rois=True)\n",
    "fig.show()\n",
    "#cortex.webshow(vertex_list_read_dist)"
   ]
  },
  {
   "cell_type": "markdown",
   "metadata": {},
   "source": [
    "## Only voxels with good brain scores"
   ]
  },
  {
   "cell_type": "markdown",
   "metadata": {},
   "source": [
    "listening"
   ]
  },
  {
   "cell_type": "code",
   "execution_count": null,
   "metadata": {},
   "outputs": [],
   "source": [
    "# Filtering based on good forecast score\n",
    "filt_best_listening_distances = best_listening_distances * (listening_forecast_brain_scores.mean(0).max(0) > 0.05)\n",
    "vertex_list_dist_filt = cortex.Vertex(filt_best_listening_distances,'fsaverage', vmin=0, vmax=15, cmap='YlGnBu_r')\n",
    "\n",
    "fig = cortex.quickshow(vertex_list_dist_filt, colorbar_location='right',\n",
    "                       with_rois=True)\n",
    "fig.show()\n",
    "#cortex.webshow(vertex_list_dist_filt)"
   ]
  },
  {
   "cell_type": "code",
   "execution_count": null,
   "metadata": {},
   "outputs": [],
   "source": [
    "# Filtering based on good brain scores\n",
    "filt_best_listening_distances2 = best_listening_distances * (listening_brain_scores.mean(0) > 0.05)\n",
    "vertex_list_dist_filt2 = cortex.Vertex(filt_best_listening_distances2,'fsaverage', vmin=0, vmax=15, cmap='YlGnBu_r')\n",
    "\n",
    "fig = cortex.quickshow(vertex_list_dist_filt2, colorbar_location='right',\n",
    "                       with_rois=True)\n",
    "fig.show()\n",
    "#cortex.webshow(vertex_list_dist_filt2)"
   ]
  },
  {
   "cell_type": "code",
   "execution_count": null,
   "metadata": {},
   "outputs": [],
   "source": [
    "# Voxels that has forecast brain score >0.05 but brain score less\n",
    "vertex_list_dist_diff = cortex.Vertex(filt_best_listening_distances - filt_best_listening_distances2,'fsaverage', vmin=0, vmax=15, cmap='YlGnBu_r')\n",
    "\n",
    "fig = cortex.quickshow(vertex_list_dist_diff, colorbar_location='right',\n",
    "                       with_rois=True)\n",
    "fig.show()\n",
    "#cortex.webshow(vertex_list_dist_diff)"
   ]
  },
  {
   "cell_type": "markdown",
   "metadata": {},
   "source": [
    "reading"
   ]
  },
  {
   "cell_type": "code",
   "execution_count": null,
   "metadata": {},
   "outputs": [],
   "source": [
    "# Filtering based on the best forecast score\n",
    "filt_best_reading_distances = best_reading_distances * (reading_forecast_brain_scores.mean(0).max(0) > 0.05)\n",
    "vertex_read_dist_filt = cortex.Vertex(filt_best_reading_distances,'fsaverage', vmin=0, vmax=15, cmap='YlGnBu_r')\n",
    "\n",
    "fig = cortex.quickshow(vertex_read_dist_filt, colorbar_location='right',\n",
    "                       with_rois=True)\n",
    "fig.show()\n",
    "#cortex.webshow(vertex_read_dist_filt)"
   ]
  },
  {
   "cell_type": "code",
   "execution_count": null,
   "metadata": {},
   "outputs": [],
   "source": [
    "# Filtering based on the brain scores\n",
    "filt_best_reading_distances2 = best_reading_distances * (reading_brain_scores.mean(0) > 0.05)\n",
    "vertex_read_dist_filt2 = cortex.Vertex(filt_best_reading_distances2,'fsaverage', vmin=0, vmax=15, cmap='YlGnBu_r')\n",
    "\n",
    "fig = cortex.quickshow(vertex_read_dist_filt2, colorbar_location='right',\n",
    "                       with_rois=True)\n",
    "fig.show()\n",
    "#cortex.webshow(vertex_read_dist_filt2)"
   ]
  },
  {
   "cell_type": "code",
   "execution_count": null,
   "metadata": {},
   "outputs": [],
   "source": [
    "# Voxels that has forecast brain score >0.05 but brain score less\n",
    "vertex_read_best_dist = cortex.Vertex(filt_best_reading_distances - filt_best_reading_distances2,'fsaverage', vmin=0, vmax=15, cmap='YlGnBu_r')\n",
    "\n",
    "fig = cortex.quickshow(vertex_read_best_dist, colorbar_location='right',\n",
    "                       with_rois=True)\n",
    "fig.show()\n",
    "#cortex.webshow(vertex_read_best_dist)"
   ]
  },
  {
   "cell_type": "markdown",
   "metadata": {},
   "source": [
    "listening vs reading"
   ]
  },
  {
   "cell_type": "markdown",
   "metadata": {},
   "source": [
    "## Averaged across ROIs"
   ]
  },
  {
   "cell_type": "markdown",
   "metadata": {},
   "source": [
    "listening"
   ]
  },
  {
   "cell_type": "code",
   "execution_count": null,
   "metadata": {},
   "outputs": [],
   "source": [
    "# Compute the average best dist per label\n",
    "unique_labels = np.unique(data_fs7)\n",
    "label_to_avg_dist = {label: np.mean(best_listening_distances[data_fs7 == label]) for label in unique_labels}\n",
    "\n",
    "# Map averages back to original voxel positions\n",
    "list_dist_across_ROIs = np.array([label_to_avg_dist[label] for label in data_fs7])\n",
    "\n",
    "vertex_list_dist_ROIs = cortex.Vertex(list_dist_across_ROIs,'fsaverage', vmin=2, vmax=15, cmap='YlGnBu_r')\n",
    "\n",
    "fig = cortex.quickshow(vertex_list_dist_ROIs, colorbar_location='right',\n",
    "                    with_rois=True)\n",
    "fig.show()\n",
    "#cortex.webshow(vertex_list_dist_ROIs)"
   ]
  },
  {
   "cell_type": "code",
   "execution_count": null,
   "metadata": {},
   "outputs": [],
   "source": [
    "import numpy as np\n",
    "\n",
    "\n",
    "# Compute the average score per label\n",
    "unique_labels = np.unique(data_fs7)\n",
    "label_to_avg= {label: listening_forecast_scores[:,round(label_to_avg_dist[label]),data_fs7 == label].mean() for label in unique_labels}\n",
    "\n",
    "# Map averages back to original voxel positions\n",
    "list_max_scores_across_ROIs = np.array([label_to_avg[label] for label in data_fs7])\n",
    "\n",
    "vertex_list_max_FS_ROIs = cortex.Vertex(list_max_scores_across_ROIs,'fsaverage', vmin=0.0005, vmax=0.006, cmap='YlGnBu_r')\n",
    "\n",
    "fig = cortex.quickshow(vertex_list_max_FS_ROIs, colorbar_location='right',\n",
    "                    with_rois=True)\n",
    "fig.show()\n",
    "#cortex.webshow(vertex_list_max_FS_ROIs)"
   ]
  },
  {
   "cell_type": "code",
   "execution_count": null,
   "metadata": {},
   "outputs": [],
   "source": [
    "## In this cell I show the maximum forecast score for each voxel, averaged across ROIS\n",
    "# This at ;east show that for each voxel it comes a time where the forecast score is high\n",
    "# Not necessarily in the same best distance for the whole ROI\n",
    "scores = listening_forecast_scores.mean(0).max(0)\n",
    "\n",
    "# Compute the average score per label\n",
    "unique_labels = np.unique(data_fs7)\n",
    "label_to_avg = {label: scores[data_fs7 == label].mean() for label in unique_labels}\n",
    "\n",
    "# Map averages back to original voxel positions\n",
    "list_max_scores_across_ROIs2 = np.array([label_to_avg[label] for label in data_fs7])\n",
    "\n",
    "vertex_list_max_FS_ROIs2 = cortex.Vertex(list_max_scores_across_ROIs2,'fsaverage', vmin=0.01, vmax=0.03, cmap='YlGnBu_r')\n",
    "\n",
    "fig = cortex.quickshow(vertex_list_max_FS_ROIs2, colorbar_location='right',\n",
    "                    with_rois=True)\n",
    "fig.show()\n",
    "#cortex.webshow(vertex_list_max_FS_ROIs2)"
   ]
  },
  {
   "cell_type": "markdown",
   "metadata": {},
   "source": [
    "reading"
   ]
  },
  {
   "cell_type": "code",
   "execution_count": null,
   "metadata": {},
   "outputs": [],
   "source": [
    "# Compute the average best dist per label\n",
    "unique_labels = np.unique(data_fs7)\n",
    "label_to_avg_dist = {label: np.mean(best_reading_distances[data_fs7 == label]) for label in unique_labels}\n",
    "\n",
    "# Map averages back to original voxel positions\n",
    "read_dist_across_ROIs = np.array([label_to_avg_dist[label] for label in data_fs7])\n",
    "\n",
    "vertex_read_dist_ROIs = cortex.Vertex(read_dist_across_ROIs,'fsaverage', vmin=2, vmax=15, cmap='YlGnBu_r')\n",
    "\n",
    "fig = cortex.quickshow(vertex_read_dist_ROIs, colorbar_location='right',\n",
    "                    with_rois=True)\n",
    "fig.show()\n",
    "#cortex.webshow(vertex_read_dist_ROIs)"
   ]
  },
  {
   "cell_type": "code",
   "execution_count": null,
   "metadata": {},
   "outputs": [],
   "source": [
    "# Compute the average score per label\n",
    "unique_labels = np.unique(data_fs7)\n",
    "label_to_avg= {label: reading_forecast_scores[:,round(label_to_avg_dist[label]),data_fs7 == label].mean() for label in unique_labels}\n",
    "\n",
    "# Map averages back to original voxel positions\n",
    "read_max_scores_across_ROIs = np.array([label_to_avg[label] for label in data_fs7])\n",
    "\n",
    "vertex_read_max_FS_ROIs = cortex.Vertex(read_max_scores_across_ROIs,'fsaverage', vmin=0.0005, vmax=0.006, cmap='YlGnBu_r')\n",
    "\n",
    "fig = cortex.quickshow(vertex_read_max_FS_ROIs, colorbar_location='right',\n",
    "                    with_rois=True)\n",
    "fig.show()\n",
    "#cortex.webshow(vertex_read_max_FS_ROIs)"
   ]
  },
  {
   "cell_type": "code",
   "execution_count": null,
   "metadata": {},
   "outputs": [],
   "source": [
    "## In this cell I show the maximum forecast score for each voxel, averaged across ROIS\n",
    "# This at ;east show that for each voxel it comes a time where the forecast score is high\n",
    "# Not necessarily in the same best distance for the whole ROI\n",
    "scores = reading_forecast_scores.mean(0).max(0)\n",
    "\n",
    "# Compute the average score per label\n",
    "unique_labels = np.unique(data_fs7)\n",
    "label_to_avg = {label: scores[data_fs7 == label].mean() for label in unique_labels}\n",
    "\n",
    "# Map averages back to original voxel positions\n",
    "read_max_scores_across_ROIs2 = np.array([label_to_avg[label] for label in data_fs7])\n",
    "\n",
    "vertex_read_max_FS_ROIs2 = cortex.Vertex(read_max_scores_across_ROIs2,'fsaverage', vmin=0.01, vmax=0.03, cmap='YlGnBu_r')\n",
    "\n",
    "fig = cortex.quickshow(vertex_read_max_FS_ROIs2, colorbar_location='right',\n",
    "                    with_rois=True)\n",
    "fig.show()\n",
    "#cortex.webshow(vertex_read_max_FS_ROIs2)"
   ]
  },
  {
   "cell_type": "markdown",
   "metadata": {},
   "source": [
    "listening vs reading"
   ]
  },
  {
   "cell_type": "code",
   "execution_count": null,
   "metadata": {},
   "outputs": [],
   "source": [
    "vertex_list_read_dist_ROI = cortex.Vertex2D(list_dist_across_ROIs,read_dist_across_ROIs,'fsaverage', vmin=0, vmax=15, vmin2=0, vmax2=15)\n",
    "\n",
    "fig = cortex.quickshow(vertex_list_read_dist_ROI, colorbar_location='right',\n",
    "                       with_rois=True)\n",
    "fig.show()\n",
    "#cortex.webshow(vertex_list_read_dist_ROI)"
   ]
  },
  {
   "cell_type": "code",
   "execution_count": null,
   "metadata": {},
   "outputs": [],
   "source": [
    "vertex_list_read_max_score_ROI = cortex.Vertex2D(list_max_scores_across_ROIs,read_max_scores_across_ROIs,'fsaverage', vmin=0.0005, vmax=0.01, vmin2=0.0005, vmax2=0.01)\n",
    "\n",
    "fig = cortex.quickshow(vertex_list_read_max_score_ROI, colorbar_location='right',\n",
    "                       with_rois=True)\n",
    "fig.show()\n",
    "#cortex.webshow(vertex_list_read_max_score_ROI)"
   ]
  }
 ],
 "metadata": {
  "kernelspec": {
   "display_name": "brain_project",
   "language": "python",
   "name": "python3"
  },
  "language_info": {
   "codemirror_mode": {
    "name": "ipython",
    "version": 3
   },
   "file_extension": ".py",
   "mimetype": "text/x-python",
   "name": "python",
   "nbconvert_exporter": "python",
   "pygments_lexer": "ipython3",
   "version": "3.12.9"
  }
 },
 "nbformat": 4,
 "nbformat_minor": 2
}
